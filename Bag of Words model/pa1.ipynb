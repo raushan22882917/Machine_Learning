{
 "cells": [
  {
   "cell_type": "markdown",
   "metadata": {
    "pycharm": {
     "name": "#%% md\n"
    }
   },
   "source": [
    "#  Assignment 1\n",
    "You are given $n$ documents (labels $\\in \\{-1,+1\\}$), each consisting of $n_i$ words from some finite vocabulary $\\mathsf{V=\\{v_1,v_2,\\dots,v_d\\}}$ with size $d$.\n",
    "We represent document $i$ by a vector \n",
    "$$\n",
    "    \\mathsf{\\mathbf{x_i} = \\begin{pmatrix} \\mathsf{x_{i1}, x_{i2},\\dots,x_{id},1 }\\end{pmatrix}}\n",
    "$$ where $x_{ij}=$ number of times that word $v_j$ appears in document $i$.\n",
    "Now let matrix $X$ of size $n$ by $d+1$ where its $i$-th row is equal to $\\mathbf{x_i}$; i.e.\n",
    "$$\n",
    "    \\mathsf{X = \\begin{pmatrix} \\mathsf{x_{ij}} \\end{pmatrix}_{i\\in[n],j\\in[d+1]}}\n",
    "$$\n",
    "also let vector $\\mathbf{y} \\in \\{-1,+1\\}^n$ be\n",
    "$$\n",
    "    \\mathbf{y}=\\begin{pmatrix} \\mathsf{y_1 \\\\\n",
    "                                   y_2 \\\\\n",
    "                                   \\dots \\\\\n",
    "                                   y_n}\n",
    "                                   \\end{pmatrix}\n",
    "$$\n",
    "wher $y_i$ is the label of document $i$.\n",
    "### Buidling $X$ and $\\mathbf{y}$\n",
    "You are given two text files\n",
    "1. `train.txt`: training set (labeled documents)\n",
    "2. `test.txt`: test set (unlabeled documents)\n",
    "\n",
    "in `train.txt`:\n",
    "- line $1$ is the number of documents in training set $n_{\\mathrm{train}}$ \n",
    "- line $2i$ contain words in document $i$ separated by space  ($i=1,2,\\dots,n_{\\mathrm{train}}$)\n",
    "- line $2i+1$ contain label for document $i$    ($i=1,2,\\dots,n_{\\mathrm{train}}$)\n",
    "\n",
    "in `test.txt`:\n",
    "- line $1$ is the number of documents in training set $n_{\\mathrm{test}}$ \n",
    "- line $i+1$ contain words in document $i$ separated by space  ($i=1,2,\\dots,n_{\\mathrm{test}}$)\n",
    "\n",
    "Now let's build $X_\\mathrm{train}$,$X_\\mathrm{test}$, and $\\mathbf{y}_{\\mathrm{train}}$ as defined above using `train.txt` and `test.txt`\n",
    "\n",
    "### IMPORTANT\n",
    "- Documents are numbered as they appear in the input file\n",
    "- let Vocabulary $V=(v_1,v_2,\\dots,v_d)$ be **sorted** list of all distinct word in the documents of **training** set."
   ]
  },
  {
   "cell_type": "code",
   "execution_count": 52,
   "metadata": {},
   "outputs": [
    {
     "name": "stdout",
     "output_type": "stream",
     "text": [
      "X_train shape: (1000, 11)\n",
      "y_train shape: (1000,)\n",
      "X_test shape: (500, 11)\n",
      "8\n",
      "4\n",
      "Sum of labels: -348\n"
     ]
    }
   ],
   "source": [
    "import numpy as np\n",
    "\n",
    "with open(\"train.txt\", \"r\") as file:\n",
    "    n_train = int(file.readline().strip()) \n",
    "    train_lines = file.readlines()\n",
    "\n",
    "docs_train = [train_lines[i].split() for i in range(0, 2 * n_train, 2)]\n",
    "labels = [int(train_lines[i].strip()) for i in range(1, 2 * n_train, 2)]\n",
    "\n",
    "with open(\"test.txt\", \"r\") as file:\n",
    "    n_test = int(file.readline().strip())  \n",
    "    docs_test = [file.readline().split() for _ in range(n_test)]\n",
    "\n",
    "vocabulary = sorted(set(word for doc in docs_train for word in doc))\n",
    "\n",
    "X_train = np.zeros((n_train, len(vocabulary) + 1))\n",
    "\n",
    "for i, doc in enumerate(docs_train):\n",
    "    for word in doc:\n",
    "        if word in vocabulary:\n",
    "            j = vocabulary.index(word)\n",
    "            X_train[i, j] += 1\n",
    "\n",
    "X_train[:, -1] = 1\n",
    "\n",
    "y_train = np.array(labels)\n",
    "\n",
    "X_test = np.zeros((n_test, len(vocabulary) + 1))\n",
    "\n",
    "for i, doc in enumerate(docs_test):\n",
    "    for word in doc:\n",
    "        if word in vocabulary:\n",
    "            j = vocabulary.index(word)\n",
    "            X_test[i, j] += 1\n",
    "\n",
    "X_test[:, -1] = 1\n",
    "\n",
    "print(\"X_train shape:\", X_train.shape)\n",
    "print(\"y_train shape:\", y_train.shape)\n",
    "print(\"X_test shape:\", X_test.shape)\n",
    "print(len(docs_train[1]))\n",
    "print(len(docs_test[1]))\n",
    "\n",
    "manual_sum_labels = sum(labels)\n",
    "print(\"Sum of labels:\", manual_sum_labels)\n",
    "\n",
    "# CHECKS\n",
    "assert (n_train + n_test) == 1500\n",
    "assert np.sum(np.array(labels)) == -348\n",
    "assert len(docs_train[1]) + len(docs_test[1]) == 12\n"
   ]
  },
  {
   "cell_type": "code",
   "execution_count": 53,
   "metadata": {},
   "outputs": [
    {
     "name": "stdout",
     "output_type": "stream",
     "text": [
      "['ITZM', 'JgwBu', 'LnGi', 'OnJECH', 'Rv', 'WAcqG', 'dZJa', 'iWgN', 'tgU', 'zY#tE']\n",
      "{'ITZM': 0, 'JgwBu': 1, 'LnGi': 2, 'OnJECH': 3, 'Rv': 4, 'WAcqG': 5, 'dZJa': 6, 'iWgN': 7, 'tgU': 8, 'zY#tE': 9}\n"
     ]
    }
   ],
   "source": [
    "def make_vocabulary(docs):\n",
    "    words = set(word for doc in docs for word in doc)\n",
    "    vocab = sorted(words)\n",
    "    return vocab\n",
    "\n",
    "vocab = make_vocabulary(docs_train)\n",
    "d = len(vocab) \n",
    "w2i = {vocab[i]: i for i in range(len(vocab))} \n",
    "\n",
    "print(vocab)\n",
    "print(w2i)\n",
    "\n",
    "# CHECKS\n",
    "assert vocab[2] == \"LnGi\"\n",
    "assert vocab == sorted(vocab)\n"
   ]
  },
  {
   "cell_type": "code",
   "execution_count": 54,
   "metadata": {},
   "outputs": [
    {
     "name": "stdout",
     "output_type": "stream",
     "text": [
      "First 5 rows of X_train: \n",
      "[[0. 0. 0. 0. 1. 0. 0. 0. 1. 1. 1.]\n",
      " [3. 0. 0. 0. 1. 0. 2. 0. 2. 0. 1.]\n",
      " [0. 0. 0. 0. 0. 0. 0. 0. 2. 0. 1.]\n",
      " [1. 1. 0. 0. 0. 1. 0. 1. 3. 2. 1.]\n",
      " [1. 0. 0. 1. 2. 0. 2. 0. 1. 0. 1.]]\n",
      "Last 5 rows of X_test: \n",
      "[[1. 0. 0. 0. 1. 0. 1. 0. 3. 0. 1.]\n",
      " [0. 0. 0. 0. 0. 0. 1. 0. 3. 0. 1.]\n",
      " [0. 0. 1. 0. 2. 1. 0. 0. 3. 0. 1.]\n",
      " [0. 1. 0. 1. 4. 0. 0. 2. 2. 0. 1.]\n",
      " [2. 1. 0. 1. 0. 0. 0. 2. 1. 0. 1.]]\n",
      "First 10 labels of the training set:\n",
      "[-1  1 -1  1 -1 -1  1 -1 -1 -1]\n",
      "Total sum of X_train: 6871.0\n",
      "Total sum of X_test: 3462.0\n",
      "Sum of features for document 10 in both X_train and X_test: 11.0\n"
     ]
    }
   ],
   "source": [
    "def make_matrix(docs, w2i):\n",
    "    n = len(docs)\n",
    "    d = len(w2i)\n",
    "    X = np.zeros((n, d + 1))\n",
    "\n",
    "    for i, doc in enumerate(docs):\n",
    "        for word in doc:\n",
    "            if word in w2i:\n",
    "                j = w2i[word]\n",
    "                X[i, j] += 1\n",
    "\n",
    "    X[:, -1] = 1\n",
    "\n",
    "    return X\n",
    "\n",
    "X_train = make_matrix(docs_train, w2i)\n",
    "X_test = make_matrix(docs_test, w2i)\n",
    "y_train = np.array(labels)\n",
    "\n",
    "print(\"First 5 rows of X_train: \")\n",
    "print(X_train[:5, :])\n",
    "print(\"Last 5 rows of X_test: \")\n",
    "print(X_test[-5:, :])\n",
    "print(\"First 10 labels of the training set:\")\n",
    "print(y_train[:10])\n",
    "\n",
    "print(\"Total sum of X_train:\", np.sum(X_train))\n",
    "print(\"Total sum of X_test:\", np.sum(X_test))\n",
    "print(\"Sum of features for document 10 in both X_train and X_test:\", np.sum(X_test[10, :] + X_train[10, :]))\n",
    "\n",
    "# CHECKS\n",
    "assert np.sum(X_train) == 6871\n",
    "assert np.sum(X_test) == 3462\n",
    "assert np.sum(X_test[10, :] + X_train[10, :]) == 11\n"
   ]
  },
  {
   "cell_type": "markdown",
   "metadata": {},
   "source": [
    "## Linear Predictor\n",
    "\n",
    "Let $\\mathbf{w} \\in \\mathbb{R}^{d+1}$, for a single document $\\mathbf{x} \\in \\mathbb{R}^{d+1}$, our predicted label is\n",
    "$$\n",
    "    \\mathsf{\\hat{y} = \\mathrm{sign}({\\mathbf{w} \\cdot \\mathbf{y}})}\n",
    "$$\n",
    "where \n",
    "$$\n",
    "    \\displaystyle  \\mathrm{sign}(\\alpha) = \\begin{cases} \n",
    "      +1 & \\alpha \\geq 0 \\\\\n",
    "      -1 & \\alpha < 0 \\\\\n",
    "    \\end{cases}\n",
    "$$\n",
    "\n",
    "Therefore, for documents matrix $X \\in \\mathbb{R}^{n\\times(d+1)}$ we predict labels $\\hat{\\mathbf{y}} \\in \\{-1,+1\\}^n$\n",
    "$$\n",
    "    \\hat{\\mathbf{y}} = \\mathrm{sign}(X\\mathbf{w})\n",
    "$$\n",
    "where $\\mathrm{sign()}$ here is defined to elementwise applying the sign we defined previously.\n",
    "\n",
    "The error of our prediction over $X$ with true labels $\\mathbf{y}$, is defined to be\n",
    "$$\n",
    "    \\mathsf{\\mathrm{error}=\\frac{1}{n}\\sum_{i=1}^{n}\\ell_{01}(y_i,\\hat{y}_i)}\n",
    "$$\n",
    "where $\\displaystyle \\mathsf{ \\ell_{01}(y,\\hat{y})= \\begin{cases} 1 & y\\neq\\hat{y} \\\\ 0 & \\text{otherwise}\\end{cases} }$"
   ]
  },
  {
   "cell_type": "code",
   "execution_count": 55,
   "metadata": {},
   "outputs": [],
   "source": [
    "def err(y, y_hat):\n",
    "    n = len(y)\n",
    "    error = sum(y_i != y_hat_i for y_i, y_hat_i in zip(y, y_hat)) / n\n",
    "    return error\n",
    "\n",
    "# CHECKS\n",
    "assert err([-1, +1, -1, +1], [+1, +1, +1, -1]) == 0.75\n",
    "assert err([+1, +1, +1, +1], [+1, +1, +1, -1]) == 0.25\n",
    "assert err([-1, -1, -1, +1], [+1, +1, +1, -1]) == 1\n"
   ]
  },
  {
   "cell_type": "code",
   "execution_count": 56,
   "metadata": {},
   "outputs": [],
   "source": [
    "def predict(X, w):\n",
    "    y_hat = np.sign(X.dot(w)).reshape(-1, 1)\n",
    "    return y_hat\n",
    "\n",
    "predictions = predict(X_train, np.ones(d + 1).reshape(-1, 1))\n",
    "\n",
    "# CHECKS\n",
    "assert np.sum(predictions) == n_train\n"
   ]
  },
  {
   "cell_type": "markdown",
   "metadata": {},
   "source": [
    "### Candidate list for $\\mathbf{w}$\n",
    "we give you a small candidates list `candids` of $\\mathbf{w}$'s. We want you to find $\\mathbf{w}^*$ in this list which gives you the smallest error over **training set**."
   ]
  },
  {
   "cell_type": "code",
   "execution_count": 57,
   "metadata": {},
   "outputs": [
    {
     "name": "stdout",
     "output_type": "stream",
     "text": [
      "size of candidates lists 10\n",
      "[[ 0.24771893]\n",
      " [ 0.0797402 ]\n",
      " [ 0.06736309]\n",
      " [ 0.12221225]\n",
      " [ 0.00692924]\n",
      " [ 0.30678176]\n",
      " [ 0.1730867 ]\n",
      " [ 0.02923004]\n",
      " [ 0.33520645]\n",
      " [ 0.06869451]\n",
      " [-0.8189899 ]]\n"
     ]
    }
   ],
   "source": [
    "import pickle\n",
    "with open('candids.pkl', 'rb') as f:\n",
    "    candids = pickle.load(f)\n",
    "print(\"size of candidates lists %d\"%len(candids))\n",
    "print(candids[0])"
   ]
  },
  {
   "cell_type": "code",
   "execution_count": 58,
   "metadata": {},
   "outputs": [
    {
     "name": "stdout",
     "output_type": "stream",
     "text": [
      "Training Error of candidates:\n",
      "Candidate #0 has error [0.252]\n",
      "Candidate #1 has error [0.273]\n",
      "Candidate #2 has error [0.]\n",
      "Candidate #3 has error [0.285]\n",
      "Candidate #4 has error [0.29]\n",
      "Candidate #5 has error [0.327]\n",
      "Candidate #6 has error [0.18]\n",
      "Candidate #7 has error [0.265]\n",
      "Candidate #8 has error [0.223]\n",
      "Candidate #9 has error [0.206]\n",
      "Index of best predictor: 2\n",
      "Best Predictor:\n",
      "[[ 0.22045993]\n",
      " [ 0.        ]\n",
      " [ 0.        ]\n",
      " [ 0.11585252]\n",
      " [ 0.        ]\n",
      " [ 0.28635182]\n",
      " [ 0.14144608]\n",
      " [ 0.        ]\n",
      " [ 0.25414682]\n",
      " [ 0.        ]\n",
      " [-0.87828279]]\n"
     ]
    }
   ],
   "source": [
    "err_list = []\n",
    "best_index = None\n",
    "smallest_error = float('inf')\n",
    "\n",
    "for i, w_candidate in enumerate(candids):\n",
    "    if w_candidate.ndim == 1:\n",
    "        w_candidate = w_candidate.reshape(-1, 1)\n",
    "    \n",
    "    y_hat_train = predict(X_train, w_candidate)\n",
    "    \n",
    "    current_error = err(y_train, y_hat_train)\n",
    "    \n",
    "    err_list.append(current_error)\n",
    "    \n",
    "    if current_error < smallest_error:\n",
    "        smallest_error = current_error\n",
    "        best_index = i\n",
    "\n",
    "print(\"Training Error of candidates:\")\n",
    "for i, err in enumerate(err_list):\n",
    "    print(f\"Candidate #{i} has error {err}\")\n",
    "\n",
    "print(\"Index of best predictor: %d\" % best_index)\n",
    "print(\"Best Predictor:\")\n",
    "print(candids[best_index])\n",
    "\n",
    "# CHECKS\n",
    "assert np.sum(err_list) <= 2.5\n"
   ]
  },
  {
   "cell_type": "code",
   "execution_count": 59,
   "metadata": {},
   "outputs": [
    {
     "name": "stdout",
     "output_type": "stream",
     "text": [
      "First 10 labels predicted for the test set:\n",
      "[[ 1.]\n",
      " [-1.]\n",
      " [ 1.]\n",
      " [-1.]\n",
      " [-1.]\n",
      " [-1.]\n",
      " [-1.]\n",
      " [-1.]\n",
      " [-1.]\n",
      " [-1.]]\n",
      "Hash value of predicted labels: 19262\n"
     ]
    }
   ],
   "source": [
    "w_best = candids[best_index]\n",
    "\n",
    "y_test = predict(X_test, w_best)\n",
    "\n",
    "print(\"First 10 labels predicted for the test set:\")\n",
    "print(y_test[:10])\n",
    "\n",
    "# CHECKS\n",
    "def my_hash(y):\n",
    "    p1 = 28433\n",
    "    p2 = 577\n",
    "    ret = 0\n",
    "    for e in range(len(y)):\n",
    "        ret = ((ret * p2 + int(e)) % p1 + p1) % p1\n",
    "    return ret\n",
    "\n",
    "hash_value = my_hash(y_test)\n",
    "print(\"Hash value of predicted labels:\", hash_value)\n",
    "assert hash_value == 19262\n"
   ]
  },
  {
   "cell_type": "markdown",
   "metadata": {},
   "source": [
    "## Frequency of words"
   ]
  },
  {
   "cell_type": "code",
   "execution_count": 62,
   "metadata": {},
   "outputs": [
    {
     "name": "stdout",
     "output_type": "stream",
     "text": [
      "Requirement already satisfied: matplotlib in c:\\users\\raush\\appdata\\local\\programs\\python\\python312\\lib\\site-packages (3.8.2)\n",
      "Requirement already satisfied: contourpy>=1.0.1 in c:\\users\\raush\\appdata\\local\\programs\\python\\python312\\lib\\site-packages (from matplotlib) (1.2.0)\n",
      "Requirement already satisfied: cycler>=0.10 in c:\\users\\raush\\appdata\\local\\programs\\python\\python312\\lib\\site-packages (from matplotlib) (0.12.1)\n",
      "Requirement already satisfied: fonttools>=4.22.0 in c:\\users\\raush\\appdata\\local\\programs\\python\\python312\\lib\\site-packages (from matplotlib) (4.47.2)\n",
      "Requirement already satisfied: kiwisolver>=1.3.1 in c:\\users\\raush\\appdata\\local\\programs\\python\\python312\\lib\\site-packages (from matplotlib) (1.4.5)\n",
      "Requirement already satisfied: numpy<2,>=1.21 in c:\\users\\raush\\appdata\\local\\programs\\python\\python312\\lib\\site-packages (from matplotlib) (1.26.3)\n",
      "Requirement already satisfied: packaging>=20.0 in c:\\users\\raush\\appdata\\roaming\\python\\python312\\site-packages (from matplotlib) (23.2)\n",
      "Requirement already satisfied: pillow>=8 in c:\\users\\raush\\appdata\\local\\programs\\python\\python312\\lib\\site-packages (from matplotlib) (10.2.0)\n",
      "Requirement already satisfied: pyparsing>=2.3.1 in c:\\users\\raush\\appdata\\local\\programs\\python\\python312\\lib\\site-packages (from matplotlib) (3.1.1)\n",
      "Requirement already satisfied: python-dateutil>=2.7 in c:\\users\\raush\\appdata\\local\\programs\\python\\python312\\lib\\site-packages (from matplotlib) (2.8.2)\n",
      "Requirement already satisfied: six>=1.5 in c:\\users\\raush\\appdata\\local\\programs\\python\\python312\\lib\\site-packages (from python-dateutil>=2.7->matplotlib) (1.16.0)\n"
     ]
    }
   ],
   "source": [
    "! pip install matplotlib\n"
   ]
  },
  {
   "cell_type": "code",
   "execution_count": 63,
   "metadata": {},
   "outputs": [
    {
     "data": {
      "image/png": "[encoded data removed]",
      "text/plain": [
       "<Figure size 640x480 with 1 Axes>"
      ]
     },
     "metadata": {},
     "output_type": "display_data"
    },
    {
     "data": {
      "image/png": "[encoded data removed]",
      "text/plain": [
       "<Figure size 640x480 with 1 Axes>"
      ]
     },
     "metadata": {},
     "output_type": "display_data"
    }
   ],
   "source": [
    "import matplotlib.pyplot as plt\n",
    "\n",
    "def plot_word_frequencies(X, title):\n",
    "    word_frequencies = np.sum(X[:, :-1], axis=0)\n",
    "    plt.bar(range(len(word_frequencies)), word_frequencies)\n",
    "    plt.title(title)\n",
    "    plt.xlabel('Index of Words')\n",
    "    plt.ylabel('Frequency')\n",
    "    plt.show()\n",
    "\n",
    "plot_word_frequencies(X_train, 'Word Frequencies in X_train')\n",
    "\n",
    "plot_word_frequencies(X_test, 'Word Frequencies in X_test')\n"
   ]
  }
 ],
 "metadata": {
  "kernelspec": {
   "display_name": "Python 3 (ipykernel)",
   "language": "python",
   "name": "python3"
  },
  "language_info": {
   "codemirror_mode": {
    "name": "ipython",
    "version": 3
   },
   "file_extension": ".py",
   "mimetype": "text/x-python",
   "name": "python",
   "nbconvert_exporter": "python",
   "pygments_lexer": "ipython3",
   "version": "3.12.1"
  },
  "pycharm": {
   "stem_cell": {
    "cell_type": "raw",
    "metadata": {
     "collapsed": false
    },
    "source": []
   }
  }
 },
 "nbformat": 4,
 "nbformat_minor": 1
}
